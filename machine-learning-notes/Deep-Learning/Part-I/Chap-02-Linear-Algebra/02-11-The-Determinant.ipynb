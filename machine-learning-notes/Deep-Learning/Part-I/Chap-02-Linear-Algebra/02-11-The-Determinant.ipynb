{
 "cells": [
  {
   "cell_type": "markdown",
   "metadata": {},
   "source": [
    "# 2.11 行列式"
   ]
  },
  {
   "cell_type": "markdown",
   "metadata": {},
   "source": [
    "对于方阵，其行列式 $\\det(\\mathbf{A})$ 是一个矩阵到实数的映射，它等于矩阵所有特征值的乘积。\n",
    "\n",
    "行列式的绝对值可以看成是乘上这个矩阵后空间的变化情况，如果行列式为 0，乘上这个矩阵会使得空间体积变为 0，如果行列式为 1，乘上这个矩阵是保持体积的操作。"
   ]
  }
 ],
 "metadata": {
  "kernelspec": {
   "display_name": "Python 2",
   "language": "python",
   "name": "python2"
  },
  "language_info": {
   "codemirror_mode": {
    "name": "ipython",
    "version": 2
   },
   "file_extension": ".py",
   "mimetype": "text/x-python",
   "name": "python",
   "nbconvert_exporter": "python",
   "pygments_lexer": "ipython2",
   "version": "2.7.6"
  }
 },
 "nbformat": 4,
 "nbformat_minor": 0
}
