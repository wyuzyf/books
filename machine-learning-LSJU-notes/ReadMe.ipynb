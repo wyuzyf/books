{
 "cells": [
  {
   "cell_type": "markdown",
   "metadata": {},
   "source": [
    "# 机器学习笔记\n",
    "\n",
    "## 简介\n",
    "\n",
    "**作者：子实**\n",
    "\n",
    "机器学习笔记，使用 `jupyter notebook (ipython notebook)` 编写展示。\n",
    "\n",
    "`Github` 加载 `.ipynb` 的速度较慢，建议在 [Nbviewer](http://nbviewer.jupyter.org/github/zlotus/notes-LSJU-machine-learning/blob/master/ReadMe.ipynb?flush_cache=true) 中查看该项目。\n",
    "\n",
    "----\n",
    "\n",
    "## 目录\n",
    "\n",
    "来自斯坦福网络课程《机器学习》的笔记，可以在[斯坦福大学公开课：机器学习课程](http://open.163.com/special/opencourse/machinelearning.html)观看。\n",
    "\n",
    "根据视频内容，对每一讲的名称可能会有所更改（以更好的体现各讲的教学内容）。\n",
    "\n",
    "- 【第1讲】 机器学习的动机与应用（主要是课程要求与应用范例，没有涉及机器学习的具体计算内容）\n",
    "- 【第2讲】 [监督学习应用-线性回归](chapter02.ipynb)\n",
    "- 【第3讲】 [线性回归的概率解释、局部加权回归、逻辑回归](chapter03.ipynb)\n",
    "- 【第4讲】 [牛顿法、一般线性模型](chapter04.ipynb)\n",
    "- 【第5讲】 [生成学习算法、高斯判别分析、朴素贝叶斯算法](chapter05.ipynb)\n",
    "- 【第6讲】 [事件模型、函数间隔与几何间隔](chapter06.ipynb)\n",
    "- 【第7讲】 [最优间隔分类器、拉格朗日对偶、支持向量机](chapter07.ipynb)\n",
    "- 【第8讲】 [核方法、序列最小优化算法](chapter08.ipynb)\n",
    "- 【第9讲】 [经验风险最小化](chapter09.ipynb)\n",
    "- 【第10讲】 [交叉验证、特征选择](chapter10.ipynb)\n",
    "- 【第11讲】 [贝叶斯统计、机器学习应用建议](chapter11.ipynb)\n",
    "- 【第12讲】 [$k$-means算法、高斯混合模型及最大期望算法](chapter12.ipynb)\n",
    "- 【第13讲】 [最大期望算法及其应用、因子分析模型](chapter13.ipynb)\n",
    "- 【第14讲】 [因子分析的EM算法、主成分分析](chapter14.ipynb)\n",
    "- 【第15讲】 [PCA的奇异值分解、独立成分分析](chapter15.ipynb)\n",
    "- 【第16讲】 [马尔可夫决策过程](chapter16.ipynb)\n",
    "- 【第17讲】 [解连续状态的MDP](chapter17.ipynb)\n",
    "- 【第18讲】 [线性二次调节](chapter18.ipynb)\n",
    "- 【第19讲】 [微分动态规划及线性二次型高斯](chapter19.ipynb)\n",
    "- 【第20讲】 [策略搜索算法](chapter20.ipynb)\n",
    "\n",
    "----\n",
    "\n",
    "- 【参考笔记1】 线性代数复习及参考\n",
    "- 【参考笔记2】 [概率论复习](sn02.ipynb)\n",
    "- 【参考笔记3】 MATLAB入门\n",
    "- 【参考笔记4】 凸优化概述1\n",
    "- 【参考笔记5】 凸优化概述2\n",
    "- 【参考笔记6】 [隐式马尔可夫模型](sn06.ipynb)\n",
    "- 【参考笔记7】 [多元高斯分布](sn07.ipynb)\n",
    "- 【参考笔记8】 [更多关于多元高斯分布的知识](sn08.ipynb)\n",
    "- 【参考笔记9】 高斯过程\n",
    "\n",
    "笔记格式借鉴[Jin Li](https://github.com/lijin-THU/)的[机器学习笔记](https://github.com/lijin-THU/notes-machine-learning)。"
   ]
  }
 ],
 "metadata": {
  "anaconda-cloud": {},
  "kernelspec": {
   "display_name": "Python [default]",
   "language": "python",
   "name": "python3"
  },
  "language_info": {
   "codemirror_mode": {
    "name": "ipython",
    "version": 3
   },
   "file_extension": ".py",
   "mimetype": "text/x-python",
   "name": "python",
   "nbconvert_exporter": "python",
   "pygments_lexer": "ipython3",
   "version": "3.5.2"
  }
 },
 "nbformat": 4,
 "nbformat_minor": 0
}
